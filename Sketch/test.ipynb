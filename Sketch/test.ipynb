{
 "cells": [
  {
   "cell_type": "code",
   "execution_count": 31,
   "metadata": {},
   "outputs": [
    {
     "name": "stdout",
     "output_type": "stream",
     "text": [
      "['9433', '9333', '9333', '5444', '3553', '1211']\n"
     ]
    }
   ],
   "source": [
    "d = ['1211', '3553', '5444', '9433', '9333', '9333']\n",
    "\n",
    "c = sorted(d, reverse=True)\n",
    "\n",
    "print(c)"
   ]
  },
  {
   "cell_type": "code",
   "execution_count": 3,
   "metadata": {},
   "outputs": [
    {
     "name": "stdout",
     "output_type": "stream",
     "text": [
      "loading 17%\n",
      "loading 35%\n",
      "loading 56%\n",
      "loading 84%\n",
      "loading 99%\n",
      "loading 100%\n"
     ]
    }
   ],
   "source": [
    "import random\n",
    "import time\n",
    "\n",
    "def loading(waitTIME):\n",
    "    rpack = random.randint\n",
    "    progress = [rpack(0, 24), rpack(25, 49), rpack(50, 74), rpack(75, 98), 99, 100]\n",
    "    previous_progress = 0\n",
    "    \n",
    "    for i in range(len(progress)):\n",
    "        current_progress = int(progress[i])\n",
    "        print(f\"loading {current_progress}%\")\n",
    "        \n",
    "        # 计算进度差异并调整等待时间\n",
    "        progress_difference = current_progress - previous_progress\n",
    "        wait_time = (progress_difference / 100) * waitTIME\n",
    "        time.sleep(wait_time)\n",
    "        \n",
    "        previous_progress = current_progress\n",
    "\n",
    "# 示例调用\n",
    "loading(3)  # 例如，总等待时间为6秒\n"
   ]
  },
  {
   "cell_type": "code",
   "execution_count": 100,
   "metadata": {},
   "outputs": [
    {
     "name": "stdout",
     "output_type": "stream",
     "text": [
      "44\n",
      "67\n"
     ]
    }
   ],
   "source": [
    "import random\n",
    "import time\n",
    "def Rnumber(mode):   # 1 = 个位数，10=十位数，100=百位数\n",
    "    currentTIME = float(time.time()) #fetching current time\n",
    "    random.seed(currentTIME) #using current time as random number generator seed.\n",
    "    match mode:\n",
    "        case 1:\n",
    "            randomNUM = random.randint(0,9) #random number are int(0~9)\n",
    "        case 10:\n",
    "            randomNUM = random.randint(10,99) #random number are int(10~99)\n",
    "        case 100:\n",
    "            randomNUM = random.randint(100,999) #random number are int(100~999)\n",
    "    return randomNUM #return value\n",
    "\n",
    "operand = [Rnumber(1),Rnumber(10),Rnumber(100)]\n",
    "\n",
    "print(Rnumber(10))\n",
    "input()\n",
    "print(Rnumber(10))"
   ]
  },
  {
   "cell_type": "code",
   "execution_count": 77,
   "metadata": {},
   "outputs": [
    {
     "name": "stdout",
     "output_type": "stream",
     "text": [
      "1, 5\n",
      "2, 2657\n",
      "-[6, 5, 7, 2]-\n",
      "-[5, 7, 2, 6]-\n",
      "-[7, 2, 6, 5]-\n",
      "-请问答案是?-\n"
     ]
    }
   ],
   "source": [
    "import random\n",
    "import time\n",
    "\n",
    "def Rnumber(min,max):   # min为随机范围最小数，max为随机范围最大数\n",
    "    currentTIME = float(time.time()) #fetching current time\n",
    "    random.seed(currentTIME) #using current time as random number generator seed.\n",
    "    randomNUM = random.randint(min,max) #random number are int(min~max)\n",
    "    return randomNUM #return value\n",
    "\n",
    "def nms():\n",
    "    NUMseq = [time.sleep(0.25) or Rnumber(0,9) for i in range(4)]\n",
    "    return NUMseq\n",
    "\n",
    "result = nms()\n",
    "print(\"1,\",result[-2])\n",
    "\n",
    "print(f\"2, {result[0]}{result[1]}{result[2]}{result[3]}\")\n",
    "\n",
    "#shift to left\n",
    "def shiftL(numseq):\n",
    "    temp = numseq[0]\n",
    "    for i in range(1, len(numseq)):\n",
    "        numseq[i - 1] = numseq[i]\n",
    "    numseq[-1] = temp \n",
    "\n",
    "    return numseq\n",
    "\n",
    "def list_to_string(numseq):\n",
    "    w = str(numseq)\n",
    "    result_str = ''\n",
    "    for num in w:\n",
    "        result_str += num\n",
    "    return str(result_str)\n",
    "\n",
    "Nans = Rnumber(0,3)\n",
    "for i in range(4):\n",
    "    if i == Nans:\n",
    "        shiftL(result)\n",
    "        print(\"-请问答案是?-\")\n",
    "        continue\n",
    "    shifted_result = shiftL(result)\n",
    "    print(f\"-{list_to_string(shifted_result)}-\")\n",
    "    \n",
    "\n",
    "\n"
   ]
  },
  {
   "cell_type": "code",
   "execution_count": null,
   "metadata": {},
   "outputs": [],
   "source": []
  }
 ],
 "metadata": {
  "kernelspec": {
   "display_name": "Python 3",
   "language": "python",
   "name": "python3"
  },
  "language_info": {
   "codemirror_mode": {
    "name": "ipython",
    "version": 3
   },
   "file_extension": ".py",
   "mimetype": "text/x-python",
   "name": "python",
   "nbconvert_exporter": "python",
   "pygments_lexer": "ipython3",
   "version": "3.12.7"
  }
 },
 "nbformat": 4,
 "nbformat_minor": 2
}
