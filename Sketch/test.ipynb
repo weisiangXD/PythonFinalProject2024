{
 "cells": [
  {
   "cell_type": "code",
   "execution_count": 7,
   "metadata": {},
   "outputs": [
    {
     "name": "stdout",
     "output_type": "stream",
     "text": [
      "2\n"
     ]
    }
   ],
   "source": [
    "def www(a,b):\n",
    "    return a+b\n",
    "\n",
    "www(1,1)\n",
    "a = www(1,1)\n",
    "print(a)"
   ]
  },
  {
   "cell_type": "code",
   "execution_count": 31,
   "metadata": {},
   "outputs": [
    {
     "name": "stdout",
     "output_type": "stream",
     "text": [
      "['9433', '9333', '9333', '5444', '3553', '1211']\n"
     ]
    }
   ],
   "source": [
    "d = ['1211', '3553', '5444', '9433', '9333', '9333']\n",
    "\n",
    "c = sorted(d, reverse=True)\n",
    "\n",
    "print(c)"
   ]
  },
  {
   "cell_type": "code",
   "execution_count": 3,
   "metadata": {},
   "outputs": [
    {
     "name": "stdout",
     "output_type": "stream",
     "text": [
      "loading 17%\n",
      "loading 35%\n",
      "loading 56%\n",
      "loading 84%\n",
      "loading 99%\n",
      "loading 100%\n"
     ]
    }
   ],
   "source": [
    "import random\n",
    "import time\n",
    "\n",
    "def loading(waitTIME):\n",
    "    rpack = random.randint\n",
    "    progress = [rpack(0, 24), rpack(25, 49), rpack(50, 74), rpack(75, 98), 99, 100]\n",
    "    previous_progress = 0\n",
    "    \n",
    "    for i in range(len(progress)):\n",
    "        current_progress = int(progress[i])\n",
    "        print(f\"loading {current_progress}%\")\n",
    "        \n",
    "        # 计算进度差异并调整等待时间\n",
    "        progress_difference = current_progress - previous_progress\n",
    "        wait_time = (progress_difference / 100) * waitTIME\n",
    "        time.sleep(wait_time)\n",
    "        \n",
    "        previous_progress = current_progress\n",
    "\n",
    "# 示例调用\n",
    "loading(3)  # 例如，总等待时间为6秒\n"
   ]
  },
  {
   "cell_type": "code",
   "execution_count": 100,
   "metadata": {},
   "outputs": [
    {
     "name": "stdout",
     "output_type": "stream",
     "text": [
      "44\n",
      "67\n"
     ]
    }
   ],
   "source": [
    "import random\n",
    "import time\n",
    "def Rnumber(mode):   # 1 = 个位数，10=十位数，100=百位数\n",
    "    currentTIME = float(time.time()) #fetching current time\n",
    "    random.seed(currentTIME) #using current time as random number generator seed.\n",
    "    match mode:\n",
    "        case 1:\n",
    "            randomNUM = random.randint(0,9) #random number are int(0~9)\n",
    "        case 10:\n",
    "            randomNUM = random.randint(10,99) #random number are int(10~99)\n",
    "        case 100:\n",
    "            randomNUM = random.randint(100,999) #random number are int(100~999)\n",
    "    return randomNUM #return value\n",
    "\n",
    "operand = [Rnumber(1),Rnumber(10),Rnumber(100)]\n",
    "\n",
    "print(Rnumber(10))\n",
    "input()\n",
    "print(Rnumber(10))"
   ]
  },
  {
   "cell_type": "code",
   "execution_count": 77,
   "metadata": {},
   "outputs": [
    {
     "name": "stdout",
     "output_type": "stream",
     "text": [
      "1, 5\n",
      "2, 2657\n",
      "-[6, 5, 7, 2]-\n",
      "-[5, 7, 2, 6]-\n",
      "-[7, 2, 6, 5]-\n",
      "-请问答案是?-\n"
     ]
    }
   ],
   "source": [
    "import random\n",
    "import time\n",
    "\n",
    "def Rnumber(min,max):   # min为随机范围最小数，max为随机范围最大数\n",
    "    currentTIME = float(time.time()) #fetching current time\n",
    "    random.seed(currentTIME) #using current time as random number generator seed.\n",
    "    randomNUM = random.randint(min,max) #random number are int(min~max)\n",
    "    return randomNUM #return value\n",
    "\n",
    "def nms():\n",
    "    NUMseq = [time.sleep(0.25) or Rnumber(0,9) for i in range(4)]\n",
    "    return NUMseq\n",
    "\n",
    "result = nms()\n",
    "print(\"1,\",result[-2])\n",
    "\n",
    "print(f\"2, {result[0]}{result[1]}{result[2]}{result[3]}\")\n",
    "\n",
    "#shift to left\n",
    "def shiftL(numseq):\n",
    "    temp = numseq[0]\n",
    "    for i in range(1, len(numseq)):\n",
    "        numseq[i - 1] = numseq[i]\n",
    "    numseq[-1] = temp \n",
    "\n",
    "    return numseq\n",
    "\n",
    "def list_to_string(numseq):\n",
    "    w = str(numseq)\n",
    "    result_str = ''\n",
    "    for num in w:\n",
    "        result_str += num\n",
    "    return str(result_str)\n",
    "\n",
    "Nans = Rnumber(0,3)\n",
    "for i in range(4):\n",
    "    if i == Nans:\n",
    "        shiftL(result)\n",
    "        print(\"-请问答案是?-\")\n",
    "        continue\n",
    "    shifted_result = shiftL(result)\n",
    "    print(f\"-{list_to_string(shifted_result)}-\")\n",
    "    \n",
    "\n",
    "\n"
   ]
  },
  {
   "cell_type": "code",
   "execution_count": null,
   "metadata": {},
   "outputs": [
    {
     "name": "stdout",
     "output_type": "stream",
     "text": [
      "-7179- -1797- -7971- 对了！\n",
      "-6389- -3896- -8963- 错了！\n",
      "正确答案是9638\n",
      "-3085- -0853- 错了！\n",
      "正确答案是8530\n",
      "-5308- "
     ]
    }
   ],
   "source": [
    "import random import time def Rnumber(min, max): # min为随机范围最小数，max为随机范围最大数 return random.randint(min, max) # 直接使用random生成随机数 class Games: def __init__(self, score): # 初始化用户数据 self.score = score def NMS_NUMseq(self): def shiftL(numseq): temp = numseq[0] # 将第一个元素用temp变量存储起来 for i in range(1, len(numseq)): numseq[i - 1] = numseq[i] # 将数列的元素向左位移 numseq[-1] = temp # 将temp赋予最后一位元素 return numseq def ListToString(numseq): result_str = '' for num in numseq: result_str += str(num) return result_str def progress(playerANS, ANS, score): if playerANS == ANS: print(\"对了！\") self.score += score print(f\"你获得了{score}\") print(f\"目前总分为{self.score}\") else: print(\"错了！\") print(f\"正确答案是{ANS}\") NUMseq = [time.sleep(0.25) or Rnumber(0, 9) for _ in range(4)] # 建立数字序列 DICE = Rnumber(0, 2) WHEN_TO_ANSWER = Rnumber(0, 3) # 在哪个环节进行答题 if DICE: # 0为shift to left，向左位移 for i in range(4): if i == WHEN_TO_ANSWER: ans = shiftL(NUMseq) print(\"-????-\", end=' ') continue ans_string_output = shiftL(NUMseq) print(f\"-{ListToString(ans_string_output)}-\", end=' ') print(\"\") # 换行，以便之后的输入提示 player_input = input(\"请输入答案！\") ans_string_input = ListToString(ans) progress(player_input, ans_string_input, 10) GAMES = Games(0)"
   ]
  },
  {
   "cell_type": "code",
   "execution_count": 8,
   "metadata": {},
   "outputs": [
    {
     "name": "stdout",
     "output_type": "stream",
     "text": [
      "-2521- -请输入您的答案- -2125- -1252- \n",
      "\n",
      "-0288- -2880- -请输入您的答案- -8028- \n",
      "\n",
      "-5941- -9415- -请输入您的答案- -1594- \n",
      "\n",
      "-3641- -6413- -请输入您的答案- -1364- \n",
      "\n",
      "\n",
      "\n",
      "-0146- -1460- -请输入您的答案- -6014- \n",
      "\n"
     ]
    },
    {
     "ename": "KeyboardInterrupt",
     "evalue": "",
     "output_type": "error",
     "traceback": [
      "\u001b[1;31m---------------------------------------------------------------------------\u001b[0m",
      "\u001b[1;31mKeyboardInterrupt\u001b[0m                         Traceback (most recent call last)",
      "Cell \u001b[1;32mIn[8], line 44\u001b[0m\n\u001b[0;32m     41\u001b[0m GAMES \u001b[38;5;241m=\u001b[39m games(\u001b[38;5;241m0\u001b[39m)\n\u001b[0;32m     43\u001b[0m \u001b[38;5;28;01mwhile\u001b[39;00m \u001b[38;5;241m1\u001b[39m:\n\u001b[1;32m---> 44\u001b[0m     update_score \u001b[38;5;241m=\u001b[39m \u001b[43mGAMES\u001b[49m\u001b[38;5;241;43m.\u001b[39;49m\u001b[43mNMS_NUMseq\u001b[49m\u001b[43m(\u001b[49m\u001b[43m)\u001b[49m\n\u001b[0;32m     45\u001b[0m     \u001b[38;5;28mprint\u001b[39m(\u001b[38;5;124m\"\u001b[39m\u001b[38;5;130;01m\\n\u001b[39;00m\u001b[38;5;124m\"\u001b[39m)\n",
      "Cell \u001b[1;32mIn[8], line 27\u001b[0m, in \u001b[0;36mgames.NMS_NUMseq\u001b[1;34m(self)\u001b[0m\n\u001b[0;32m     24\u001b[0m     \u001b[38;5;28;01mreturn\u001b[39;00m result_str\n\u001b[0;32m     25\u001b[0m \u001b[38;5;66;03m#def progress(mark):\u001b[39;00m\n\u001b[1;32m---> 27\u001b[0m NUMseq \u001b[38;5;241m=\u001b[39m [\u001b[43mtime\u001b[49m\u001b[38;5;241;43m.\u001b[39;49m\u001b[43msleep\u001b[49m\u001b[43m(\u001b[49m\u001b[38;5;241;43m0.25\u001b[39;49m\u001b[43m)\u001b[49m \u001b[38;5;129;01mor\u001b[39;00m Rnumber(\u001b[38;5;241m0\u001b[39m,\u001b[38;5;241m9\u001b[39m) \u001b[38;5;28;01mfor\u001b[39;00m i \u001b[38;5;129;01min\u001b[39;00m \u001b[38;5;28mrange\u001b[39m(\u001b[38;5;241m4\u001b[39m)] \u001b[38;5;66;03m#建立数字序列，create NUMsequence\u001b[39;00m\n\u001b[0;32m     28\u001b[0m DICE \u001b[38;5;241m=\u001b[39m Rnumber(\u001b[38;5;241m0\u001b[39m,\u001b[38;5;241m2\u001b[39m)\n\u001b[0;32m     29\u001b[0m WHEN_TO_ANSWER \u001b[38;5;241m=\u001b[39m Rnumber(\u001b[38;5;241m0\u001b[39m,\u001b[38;5;241m3\u001b[39m) \u001b[38;5;66;03m#在哪个环节进行答题\u001b[39;00m\n",
      "\u001b[1;31mKeyboardInterrupt\u001b[0m: "
     ]
    }
   ],
   "source": [
    "import random\n",
    "import time\n",
    "\n",
    "def Rnumber(min,max):   # min为随机范围最小数，max为随机范围最大数\n",
    "    currentTIME = float(time.time()) #fetching current time\n",
    "    random.seed(currentTIME) #using current time as random number generator seed.\n",
    "    randomNUM = random.randint(min,max) #random number are int(min~max)\n",
    "    return randomNUM #return value\n",
    "\n",
    "class games():\n",
    "    def __init__(self,score): #initialize user data.\n",
    "        self.score = score\n",
    "    def NMS_NUMseq(self):\n",
    "            def shiftL(numseq):\n",
    "                temp = numseq[0] #将第一个元素用temp变数存储起来。\n",
    "                for i in range(1, len(numseq)):\n",
    "                    numseq[i - 1] = numseq[i] #将数列的元素向左位移\n",
    "                numseq[-1] = temp #将temp赋予最后一位元素。\n",
    "                return numseq\n",
    "            def ListToString(numseq):\n",
    "                result_str = ''\n",
    "                for num in numseq:\n",
    "                    result_str += str(num)\n",
    "                return result_str\n",
    "            #def progress(mark):\n",
    "                \n",
    "            NUMseq = [time.sleep(0.25) or Rnumber(0,9) for i in range(4)] #建立数字序列，create NUMsequence\n",
    "            DICE = Rnumber(0,2)\n",
    "            WHEN_TO_ANSWER = Rnumber(0,3) #在哪个环节进行答题\n",
    "            if DICE: #0为shift to left，向左位移\n",
    "                for i in range(4):\n",
    "                    if i == WHEN_TO_ANSWER:\n",
    "                        ans = shiftL(NUMseq)\n",
    "                        print(\"-请输入您的答案-\", end =' ')\n",
    "                        continue\n",
    "\n",
    "                    ans_string = shiftL(NUMseq)\n",
    "                    print(f\"-{ans_string[0]}{ans_string[1]}{ans_string[2]}{ans_string[3]}-\", end =' ')\n",
    "                \n",
    "\n",
    "GAMES = games(0)\n",
    "\n",
    "while 1:\n",
    "    update_score = GAMES.NMS_NUMseq()\n",
    "    print(\"\\n\")\n"
   ]
  },
  {
   "cell_type": "code",
   "execution_count": 31,
   "metadata": {},
   "outputs": [
    {
     "name": "stdout",
     "output_type": "stream",
     "text": [
      "↑←↓→\n",
      "错误！\n",
      "答案是[('↑', 'w'), ('↓', 's'), ('←', 'a'), ('→', 'd')]\n"
     ]
    }
   ],
   "source": [
    "arrowseq = ['↑','←','↓','→']\n",
    "directions = [\n",
    "            (\"↑\", \"w\"),\n",
    "            (\"↓\", \"s\"),\n",
    "            (\"←\", \"a\"),\n",
    "            (\"→\", \"d\")\n",
    "            ]\n",
    "result = ''\n",
    "for _ in arrowseq:   \n",
    "    result += _\n",
    "print(result)\n",
    "\n",
    "result = directions\n",
    "player_input = input(\"答案:\")\n",
    "if player_input == result:\n",
    "    print(\"正确!\")\n",
    "else:\n",
    "    print(\"错误！\")\n",
    "    print(f\"答案是{result}\")"
   ]
  },
  {
   "cell_type": "code",
   "execution_count": 39,
   "metadata": {},
   "outputs": [
    {
     "name": "stdout",
     "output_type": "stream",
     "text": [
      "←↑\n",
      "正确!\n"
     ]
    }
   ],
   "source": [
    "import random\n",
    "\n",
    "# 可用的方向和对应的字母\n",
    "directions = [\n",
    "    (\"↑\", \"w\"),\n",
    "    (\"↓\", \"s\"),\n",
    "    (\"←\", \"a\"),\n",
    "    (\"→\", \"d\")]\n",
    "\n",
    "# 从 directions 中随机选择数量和方向\n",
    "num_arrows = random.randint(1, len(directions))  # 随机选择数量\n",
    "arrowseq = random.sample(directions, num_arrows)  # 随机选择方向\n",
    "\n",
    "# 将箭头符号合并为一个字符串\n",
    "result_str = ''\n",
    "for arrow in arrowseq:\n",
    "    result_str += arrow[0]\n",
    "\n",
    "# 打印箭头符号\n",
    "print(result_str)\n",
    "\n",
    "# 根据 arrowseq 生成正确的答案\n",
    "correct_answer = ''\n",
    "for arrow in arrowseq:\n",
    "    correct_answer += arrow[1]\n",
    "\n",
    "# 用户输入和检查\n",
    "input_str = input(\"请输入与箭头方向对应的字母（例如：wsad）: \")\n",
    "\n",
    "if input_str == correct_answer:\n",
    "    print(\"正确!\")\n",
    "else:\n",
    "    print(\"错误！\")\n",
    "    print(f\"正确答案是 {correct_answer}\")"
   ]
  },
  {
   "cell_type": "code",
   "execution_count": 19,
   "metadata": {},
   "outputs": [
    {
     "name": "stdout",
     "output_type": "stream",
     "text": [
      "im1\n"
     ]
    }
   ],
   "source": [
    "test = {0:\"im1\",3:\"im2\"}\n",
    "\n",
    "# Use an existing key to avoid KeyError\n",
    "print(test[0])"
   ]
  }
 ],
 "metadata": {
  "kernelspec": {
   "display_name": "Python 3",
   "language": "python",
   "name": "python3"
  },
  "language_info": {
   "codemirror_mode": {
    "name": "ipython",
    "version": 3
   },
   "file_extension": ".py",
   "mimetype": "text/x-python",
   "name": "python",
   "nbconvert_exporter": "python",
   "pygments_lexer": "ipython3",
   "version": "3.12.7"
  }
 },
 "nbformat": 4,
 "nbformat_minor": 2
}
